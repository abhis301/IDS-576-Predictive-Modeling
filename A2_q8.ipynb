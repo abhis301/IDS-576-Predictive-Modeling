{
 "cells": [
  {
   "cell_type": "code",
   "execution_count": 1,
   "metadata": {
    "collapsed": false
   },
   "outputs": [
    {
     "data": {
      "image/png": "[encoded data removed]",
      "text/plain": [
       "<matplotlib.figure.Figure at 0x28b46367320>"
      ]
     },
     "metadata": {},
     "output_type": "display_data"
    }
   ],
   "source": [
    "import networkx as nx\n",
    "import matplotlib.pyplot as plt\n",
    "import numpy as np\n",
    "\n",
    "pos = {\"a\":(-1,0), \"f1\":(0,0), \"b\":(1,0), \"f2\":(2,0), \"c\":(3,1), \"f3\":(4,1), \"d\":(3,-1), \"f5\":(3,-2), \"f4\":(4,-1), \"e\":(5,-1)}\n",
    "\n",
    "G=nx.Graph()\n",
    "nx.draw_networkx_nodes(G,pos,nodelist=[\"a\",\"b\",\"c\", \"d\", \"e\"],node_shape='o')\n",
    "nx.draw_networkx_nodes(G,pos,nodelist=[\"f1\",\"f2\",\"f3\", \"f4\", \"f5\"],node_shape='s')\n",
    "G.add_edges_from([(\"a\",\"f1\"),(\"f1\",\"b\"), (\"b\",\"f2\"), (\"f2\",\"c\"), (\"c\",\"f3\"), (\"f2\",\"d\"), (\"d\",\"f5\"), (\"d\",\"f4\"), (\"f4\",\"e\")])\n",
    "\n",
    "# some math labels\n",
    "labels={}\n",
    "labels[\"a\"]=r'$a$'\n",
    "labels[\"b\"]=r'$b$'\n",
    "labels[\"c\"]=r'$c$'\n",
    "labels[\"d\"]=r'$d$'\n",
    "labels[\"e\"]=r'$e$'\n",
    "labels[\"f1\"]=r'$f1$'\n",
    "labels[\"f2\"]=r'$f2$'\n",
    "labels[\"f3\"]=r'$f3$'\n",
    "labels[\"f4\"]=r'$f4$'\n",
    "labels[\"f5\"]=r'$f5$'\n",
    "\n",
    "\n",
    "# edges\n",
    "nx.draw_networkx_labels(G,pos,labels,font_size=16)\n",
    "nx.draw_networkx_edges(G,pos,width=6,alpha=0.5,edge_color='black')\n",
    "\n",
    "\n",
    "plt.show()\n"
   ]
  },
  {
   "cell_type": "code",
   "execution_count": 2,
   "metadata": {
    "collapsed": false
   },
   "outputs": [],
   "source": [
    "# factors\n",
    "\n",
    "sup = np.array([1,2])\n",
    "e = np.array([1,2])\n",
    "d = np.array([1,2])\n",
    "c = np.array([1,2])\n",
    "a = np.array([1,2])\n",
    "b = np.array([1,2])\n",
    "f5 = 3-d \n",
    "f3 = np.asmatrix(3-c)\n",
    "f4 = np.zeros((2,2))\n",
    "f1 = np.zeros((2,2))\n",
    "f2 = []\n",
    "for i in d:\n",
    "    for j in e:\n",
    "        f4[i-1,j-1] = i*j\n",
    "        \n",
    "for i in a:\n",
    "    for j in b:\n",
    "        f1[i-1,j-1] = i*j\n",
    "\n",
    "for i in b:\n",
    "    for j in c:\n",
    "        for k in d:\n",
    "            f_2 =  2*(5-i*j)-k+1\n",
    "            f2.append(f_2)\n",
    "               "
   ]
  },
  {
   "cell_type": "code",
   "execution_count": 3,
   "metadata": {
    "collapsed": false
   },
   "outputs": [],
   "source": [
    "f2 = np.asarray(f2)\n",
    "f2 = f2.reshape(4,2)"
   ]
  },
  {
   "cell_type": "code",
   "execution_count": 4,
   "metadata": {
    "collapsed": false
   },
   "outputs": [
    {
     "data": {
      "text/plain": [
       "array([ 6.,  6.])"
      ]
     },
     "execution_count": 4,
     "metadata": {},
     "output_type": "execute_result"
    }
   ],
   "source": [
    "#Message Passing\n",
    "import numpy as np\n",
    "\n",
    "E = np.asmatrix([1,1])\n",
    "f4_prod_E = f4*E.transpose()\n",
    "f4_prod_E1 = np.asarray(f4_prod_E)\n",
    "f4_prod_E1 = f4_prod_E1.reshape(2)\n",
    "f5_prod_f4E = f4_prod_E1*f5 #Message to d\n",
    "f5_prod_f4E\n"
   ]
  },
  {
   "cell_type": "code",
   "execution_count": 5,
   "metadata": {
    "collapsed": false
   },
   "outputs": [
    {
     "data": {
      "text/plain": [
       "matrix([[ 90.,  66.],\n",
       "        [ 66.,  18.]])"
      ]
     },
     "execution_count": 5,
     "metadata": {},
     "output_type": "execute_result"
    }
   ],
   "source": [
    "f2_new = np.matrix(f2)\n",
    "f54E_new = np.matrix(f5_prod_f4E.reshape(2,1))\n",
    "f2_prod_f54E = np.dot(f2_new,f54E_new) #Message to f2\n",
    "f2_prod_f54E = f2_prod_f54E.reshape(2,2)\n",
    "f2_prod_f54E"
   ]
  },
  {
   "cell_type": "code",
   "execution_count": 6,
   "metadata": {
    "collapsed": false
   },
   "outputs": [
    {
     "data": {
      "text/plain": [
       "matrix([[ 246.],\n",
       "        [ 150.]])"
      ]
     },
     "execution_count": 6,
     "metadata": {},
     "output_type": "execute_result"
    }
   ],
   "source": [
    "f3 = np.matrix(f3.reshape(2,1))\n",
    "f3_prod_f254E = np.dot(f2_prod_f54E,f3) #Message to b\n",
    "f3_prod_f254E"
   ]
  },
  {
   "cell_type": "code",
   "execution_count": 7,
   "metadata": {
    "collapsed": false
   },
   "outputs": [
    {
     "data": {
      "text/plain": [
       "array([[ 246.,  300.],\n",
       "       [ 492.,  600.]])"
      ]
     },
     "execution_count": 7,
     "metadata": {},
     "output_type": "execute_result"
    }
   ],
   "source": [
    "f3_prod_f254E = np.array(f3_prod_f254E)\n",
    "f3_prod_f254E = f3_prod_f254E.reshape(2)\n",
    "F_Final = f1*f3_prod_f254E #Message to a\n",
    "F_Final"
   ]
  },
  {
   "cell_type": "code",
   "execution_count": 8,
   "metadata": {
    "collapsed": false
   },
   "outputs": [
    {
     "data": {
      "text/plain": [
       "array([[ 0.15018315,  0.18315018],\n",
       "       [ 0.3003663 ,  0.36630037]])"
      ]
     },
     "execution_count": 8,
     "metadata": {},
     "output_type": "execute_result"
    }
   ],
   "source": [
    "#Marginal distributions\n",
    "\n",
    "f_ab = np.zeros([2,2])\n",
    "bc =F_Final.sum()\n",
    "for i in range(2):\n",
    "    for j in range(2):\n",
    "        f_ab[i][j] = F_Final[i,j]/bc\n",
    "f_ab"
   ]
  }
 ],
 "metadata": {
  "anaconda-cloud": {},
  "kernelspec": {
   "display_name": "Python [default]",
   "language": "python",
   "name": "python3"
  },
  "language_info": {
   "codemirror_mode": {
    "name": "ipython",
    "version": 3
   },
   "file_extension": ".py",
   "mimetype": "text/x-python",
   "name": "python",
   "nbconvert_exporter": "python",
   "pygments_lexer": "ipython3",
   "version": "3.5.2"
  }
 },
 "nbformat": 4,
 "nbformat_minor": 2
}
